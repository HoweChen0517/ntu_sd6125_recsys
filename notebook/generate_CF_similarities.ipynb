{
 "cells": [
  {
   "cell_type": "code",
   "execution_count": 2,
   "metadata": {},
   "outputs": [
    {
     "data": {
      "text/plain": [
       "'f:\\\\NTU Learn\\\\DATA MINING\\\\ntu_sd6125_recsys'"
      ]
     },
     "execution_count": 2,
     "metadata": {},
     "output_type": "execute_result"
    }
   ],
   "source": [
    "import pandas as pd\n",
    "import numpy as np\n",
    "import os\n",
    "from sklearn.model_selection import train_test_split\n",
    "import warnings\n",
    "warnings.filterwarnings('ignore')\n",
    "from tqdm import tqdm\n",
    "from scipy.stats import pearsonr\n",
    "from scipy.sparse import coo_matrix, lil_matrix, csr_matrix\n",
    "from collections import defaultdict\n",
    "from sklearn.metrics.pairwise import cosine_similarity\n",
    "import math\n",
    "import json\n",
    "import torch\n",
    "from torch.utils.data import DataLoader, Dataset\n",
    "from matplotlib import pyplot as plt\n",
    "import pickle\n",
    "from sklearn.feature_extraction.text import TfidfVectorizer\n",
    "import re\n",
    "import pyarrow.parquet as pq\n",
    "import pyarrow as pa\n",
    "import fastparquet\n",
    "import joblib\n",
    "from sklearn.preprocessing import MinMaxScaler\n",
    "\n",
    "os.chdir('../')\n",
    "os.getcwd()"
   ]
  },
  {
   "cell_type": "markdown",
   "metadata": {},
   "source": [
    "# Read Data"
   ]
  },
  {
   "cell_type": "code",
   "execution_count": 49,
   "metadata": {},
   "outputs": [
    {
     "data": {
      "text/plain": [
       "((3794270, 139), (124710, 120))"
      ]
     },
     "execution_count": 49,
     "metadata": {},
     "output_type": "execute_result"
    }
   ],
   "source": [
    "ml_20m_df = pd.read_parquet('data/ml-20m/feature_df_0.parquet')\n",
    "book_crossing_df = pd.read_parquet('data/book_crossing/feature_df_0.parquet')\n",
    "min_max_scaler = MinMaxScaler(feature_range=(0.5, 5))\n",
    "ml_20m_df['rating'] = min_max_scaler.fit_transform(ml_20m_df[['rating']])\n",
    "book_crossing_df['rating'] = min_max_scaler.fit_transform(book_crossing_df[['rating']])\n",
    "ml_20m_df.shape, book_crossing_df.shape"
   ]
  },
  {
   "cell_type": "markdown",
   "metadata": {},
   "source": [
    "# Train Test Split"
   ]
  },
  {
   "cell_type": "code",
   "execution_count": 50,
   "metadata": {},
   "outputs": [],
   "source": [
    "ml_20m_df_train, ml_20m_df_test = train_test_split(ml_20m_df, test_size=0.2, random_state=42)\n",
    "book_crossing_df_train, book_crossing_df_test = train_test_split(book_crossing_df, test_size=0.2, random_state=42)"
   ]
  },
  {
   "cell_type": "code",
   "execution_count": 51,
   "metadata": {},
   "outputs": [
    {
     "data": {
      "text/plain": [
       "((3035416, 139), (758854, 139), (99768, 120), (24942, 120))"
      ]
     },
     "execution_count": 51,
     "metadata": {},
     "output_type": "execute_result"
    }
   ],
   "source": [
    "ml_20m_df_train.shape, ml_20m_df_test.shape, book_crossing_df_train.shape, book_crossing_df_test.shape"
   ]
  },
  {
   "cell_type": "code",
   "execution_count": 52,
   "metadata": {},
   "outputs": [],
   "source": [
    "ml_20m_df_train.to_parquet('data/ml-20m/ml_20m_df_train.parquet')\n",
    "ml_20m_df_test.to_parquet('data/ml-20m/ml_20m_df_test.parquet')\n",
    "book_crossing_df_train.to_parquet('data/book_crossing/book_crossing_df_train.parquet')\n",
    "book_crossing_df_test.to_parquet('data/book_crossing/book_crossing_df_test.parquet')"
   ]
  },
  {
   "cell_type": "markdown",
   "metadata": {},
   "source": [
    "# Generate User-Item-Rating Matrix"
   ]
  },
  {
   "cell_type": "code",
   "execution_count": 53,
   "metadata": {},
   "outputs": [],
   "source": [
    "def convert_ratings_to_matrix(data, num_users, num_items, usr_ids_dict, item_ids_dict):\n",
    "    \n",
    "    user_item_matrix = np.zeros((num_users, num_items))\n",
    "\n",
    "    for row in data.itertuples():\n",
    "        user_item_matrix[usr_ids_dict[row.userId], item_ids_dict[row.itemId]] = row.rating\n",
    "\n",
    "    return user_item_matrix"
   ]
  },
  {
   "cell_type": "markdown",
   "metadata": {},
   "source": [
    "## ml-20m"
   ]
  },
  {
   "cell_type": "code",
   "execution_count": 54,
   "metadata": {},
   "outputs": [
    {
     "data": {
      "text/plain": [
       "array([[3., 2., 2., ..., 0., 0., 0.],\n",
       "       [5., 5., 2., ..., 0., 0., 0.],\n",
       "       [4., 0., 0., ..., 0., 0., 0.],\n",
       "       ...,\n",
       "       [0., 0., 0., ..., 0., 0., 0.],\n",
       "       [0., 0., 0., ..., 0., 0., 0.],\n",
       "       [0., 0., 0., ..., 0., 0., 0.]])"
      ]
     },
     "execution_count": 54,
     "metadata": {},
     "output_type": "execute_result"
    }
   ],
   "source": [
    "ml_num_usrs = ml_20m_df.userId.nunique()\n",
    "ml_num_items = ml_20m_df.itemId.nunique()\n",
    "ml_user_ids = pd.unique(ml_20m_df.userId).tolist()\n",
    "ml_item_ids = pd.unique(ml_20m_df.itemId).tolist()\n",
    "ml_user_ids_dict = {ml_user_ids[i]: i for i in range(len(ml_user_ids))}\n",
    "ml_item_ids_dict = {ml_item_ids[i]: i for i in range(len(ml_item_ids))}\n",
    "\n",
    "ml_20m_train_matrix = convert_ratings_to_matrix(ml_20m_df_train, ml_num_usrs, ml_num_items, ml_user_ids_dict, ml_item_ids_dict)\n",
    "\n",
    "ml_20m_train_matrix"
   ]
  },
  {
   "cell_type": "code",
   "execution_count": 55,
   "metadata": {},
   "outputs": [],
   "source": [
    "ml_20m_train_matrix_df = pd.DataFrame(ml_20m_train_matrix, columns=ml_item_ids, index=ml_user_ids)"
   ]
  },
  {
   "cell_type": "code",
   "execution_count": 56,
   "metadata": {},
   "outputs": [
    {
     "data": {
      "text/html": [
       "<div>\n",
       "<style scoped>\n",
       "    .dataframe tbody tr th:only-of-type {\n",
       "        vertical-align: middle;\n",
       "    }\n",
       "\n",
       "    .dataframe tbody tr th {\n",
       "        vertical-align: top;\n",
       "    }\n",
       "\n",
       "    .dataframe thead th {\n",
       "        text-align: right;\n",
       "    }\n",
       "</style>\n",
       "<table border=\"1\" class=\"dataframe\">\n",
       "  <thead>\n",
       "    <tr style=\"text-align: right;\">\n",
       "      <th></th>\n",
       "      <th>1</th>\n",
       "      <th>2</th>\n",
       "      <th>3</th>\n",
       "      <th>4</th>\n",
       "      <th>5</th>\n",
       "      <th>6</th>\n",
       "      <th>7</th>\n",
       "      <th>8</th>\n",
       "      <th>9</th>\n",
       "      <th>10</th>\n",
       "      <th>...</th>\n",
       "      <th>131239</th>\n",
       "      <th>131241</th>\n",
       "      <th>131243</th>\n",
       "      <th>131248</th>\n",
       "      <th>131250</th>\n",
       "      <th>131252</th>\n",
       "      <th>131254</th>\n",
       "      <th>131256</th>\n",
       "      <th>131258</th>\n",
       "      <th>131260</th>\n",
       "    </tr>\n",
       "  </thead>\n",
       "  <tbody>\n",
       "    <tr>\n",
       "      <th>116</th>\n",
       "      <td>3.0</td>\n",
       "      <td>2.0</td>\n",
       "      <td>2.0</td>\n",
       "      <td>0.0</td>\n",
       "      <td>0.0</td>\n",
       "      <td>1.5</td>\n",
       "      <td>0.0</td>\n",
       "      <td>0.0</td>\n",
       "      <td>1.5</td>\n",
       "      <td>2.0</td>\n",
       "      <td>...</td>\n",
       "      <td>0.0</td>\n",
       "      <td>0.0</td>\n",
       "      <td>0.0</td>\n",
       "      <td>0.0</td>\n",
       "      <td>0.0</td>\n",
       "      <td>0.0</td>\n",
       "      <td>0.0</td>\n",
       "      <td>0.0</td>\n",
       "      <td>0.0</td>\n",
       "      <td>0.0</td>\n",
       "    </tr>\n",
       "    <tr>\n",
       "      <th>156</th>\n",
       "      <td>5.0</td>\n",
       "      <td>5.0</td>\n",
       "      <td>2.0</td>\n",
       "      <td>3.0</td>\n",
       "      <td>3.0</td>\n",
       "      <td>4.0</td>\n",
       "      <td>4.0</td>\n",
       "      <td>0.0</td>\n",
       "      <td>3.0</td>\n",
       "      <td>4.0</td>\n",
       "      <td>...</td>\n",
       "      <td>0.0</td>\n",
       "      <td>0.0</td>\n",
       "      <td>0.0</td>\n",
       "      <td>0.0</td>\n",
       "      <td>0.0</td>\n",
       "      <td>0.0</td>\n",
       "      <td>0.0</td>\n",
       "      <td>0.0</td>\n",
       "      <td>0.0</td>\n",
       "      <td>0.0</td>\n",
       "    </tr>\n",
       "    <tr>\n",
       "      <th>208</th>\n",
       "      <td>4.0</td>\n",
       "      <td>0.0</td>\n",
       "      <td>0.0</td>\n",
       "      <td>0.0</td>\n",
       "      <td>0.0</td>\n",
       "      <td>0.0</td>\n",
       "      <td>0.0</td>\n",
       "      <td>0.0</td>\n",
       "      <td>0.0</td>\n",
       "      <td>0.0</td>\n",
       "      <td>...</td>\n",
       "      <td>0.0</td>\n",
       "      <td>0.0</td>\n",
       "      <td>0.0</td>\n",
       "      <td>0.0</td>\n",
       "      <td>0.0</td>\n",
       "      <td>0.0</td>\n",
       "      <td>0.0</td>\n",
       "      <td>0.0</td>\n",
       "      <td>0.0</td>\n",
       "      <td>0.0</td>\n",
       "    </tr>\n",
       "    <tr>\n",
       "      <th>298</th>\n",
       "      <td>4.0</td>\n",
       "      <td>3.0</td>\n",
       "      <td>3.0</td>\n",
       "      <td>0.0</td>\n",
       "      <td>3.0</td>\n",
       "      <td>5.0</td>\n",
       "      <td>0.0</td>\n",
       "      <td>0.0</td>\n",
       "      <td>0.0</td>\n",
       "      <td>4.0</td>\n",
       "      <td>...</td>\n",
       "      <td>0.0</td>\n",
       "      <td>0.0</td>\n",
       "      <td>0.0</td>\n",
       "      <td>0.0</td>\n",
       "      <td>0.0</td>\n",
       "      <td>0.0</td>\n",
       "      <td>0.0</td>\n",
       "      <td>0.0</td>\n",
       "      <td>0.0</td>\n",
       "      <td>0.0</td>\n",
       "    </tr>\n",
       "    <tr>\n",
       "      <th>359</th>\n",
       "      <td>5.0</td>\n",
       "      <td>0.0</td>\n",
       "      <td>0.0</td>\n",
       "      <td>0.0</td>\n",
       "      <td>0.0</td>\n",
       "      <td>0.0</td>\n",
       "      <td>0.0</td>\n",
       "      <td>0.0</td>\n",
       "      <td>0.0</td>\n",
       "      <td>4.0</td>\n",
       "      <td>...</td>\n",
       "      <td>0.0</td>\n",
       "      <td>0.0</td>\n",
       "      <td>0.0</td>\n",
       "      <td>0.0</td>\n",
       "      <td>0.0</td>\n",
       "      <td>0.0</td>\n",
       "      <td>0.0</td>\n",
       "      <td>0.0</td>\n",
       "      <td>0.0</td>\n",
       "      <td>0.0</td>\n",
       "    </tr>\n",
       "  </tbody>\n",
       "</table>\n",
       "<p>5 rows × 25511 columns</p>\n",
       "</div>"
      ],
      "text/plain": [
       "     1       2       3       4       5       6       7       8       9       \\\n",
       "116     3.0     2.0     2.0     0.0     0.0     1.5     0.0     0.0     1.5   \n",
       "156     5.0     5.0     2.0     3.0     3.0     4.0     4.0     0.0     3.0   \n",
       "208     4.0     0.0     0.0     0.0     0.0     0.0     0.0     0.0     0.0   \n",
       "298     4.0     3.0     3.0     0.0     3.0     5.0     0.0     0.0     0.0   \n",
       "359     5.0     0.0     0.0     0.0     0.0     0.0     0.0     0.0     0.0   \n",
       "\n",
       "     10      ...  131239  131241  131243  131248  131250  131252  131254  \\\n",
       "116     2.0  ...     0.0     0.0     0.0     0.0     0.0     0.0     0.0   \n",
       "156     4.0  ...     0.0     0.0     0.0     0.0     0.0     0.0     0.0   \n",
       "208     0.0  ...     0.0     0.0     0.0     0.0     0.0     0.0     0.0   \n",
       "298     4.0  ...     0.0     0.0     0.0     0.0     0.0     0.0     0.0   \n",
       "359     4.0  ...     0.0     0.0     0.0     0.0     0.0     0.0     0.0   \n",
       "\n",
       "     131256  131258  131260  \n",
       "116     0.0     0.0     0.0  \n",
       "156     0.0     0.0     0.0  \n",
       "208     0.0     0.0     0.0  \n",
       "298     0.0     0.0     0.0  \n",
       "359     0.0     0.0     0.0  \n",
       "\n",
       "[5 rows x 25511 columns]"
      ]
     },
     "execution_count": 56,
     "metadata": {},
     "output_type": "execute_result"
    }
   ],
   "source": [
    "ml_20m_train_matrix_df.head()"
   ]
  },
  {
   "cell_type": "code",
   "execution_count": 57,
   "metadata": {},
   "outputs": [],
   "source": [
    "ml_20m_train_matrix_df.to_parquet('data/ml-20m/ml_20m_train_matrix_df.parquet')"
   ]
  },
  {
   "cell_type": "markdown",
   "metadata": {},
   "source": [
    "## Book-crossing"
   ]
  },
  {
   "cell_type": "code",
   "execution_count": 58,
   "metadata": {},
   "outputs": [
    {
     "data": {
      "text/plain": [
       "array([[0. , 0. , 4.5, ..., 0. , 0. , 0. ],\n",
       "       [4.5, 0. , 0. , ..., 0. , 0. , 0. ],\n",
       "       [3.5, 0. , 0. , ..., 0. , 0. , 0. ],\n",
       "       ...,\n",
       "       [0. , 0. , 0. , ..., 0. , 0. , 0. ],\n",
       "       [0. , 0. , 0. , ..., 0. , 0. , 0. ],\n",
       "       [0. , 0. , 0. , ..., 0. , 0. , 0. ]])"
      ]
     },
     "execution_count": 58,
     "metadata": {},
     "output_type": "execute_result"
    }
   ],
   "source": [
    "bc_num_usrs = book_crossing_df.userId.nunique()\n",
    "bc_num_items = book_crossing_df.itemId.nunique()\n",
    "bc_user_ids = pd.unique(book_crossing_df.userId).tolist()\n",
    "bc_item_ids = pd.unique(book_crossing_df.itemId).tolist()\n",
    "bc_user_ids_dict = {bc_user_ids[i]: i for i in range(len(bc_user_ids))}\n",
    "bc_item_ids_dict = {bc_item_ids[i]: i for i in range(len(bc_item_ids))}\n",
    "\n",
    "book_crossing_train_matrix = convert_ratings_to_matrix(book_crossing_df_train, bc_num_usrs, bc_num_items, bc_user_ids_dict, bc_item_ids_dict)\n",
    "\n",
    "book_crossing_train_matrix"
   ]
  },
  {
   "cell_type": "code",
   "execution_count": 59,
   "metadata": {},
   "outputs": [],
   "source": [
    "book_crossing_train_matrix_df = pd.DataFrame(book_crossing_train_matrix, columns=bc_item_ids, index=bc_user_ids)"
   ]
  },
  {
   "cell_type": "code",
   "execution_count": 60,
   "metadata": {},
   "outputs": [
    {
     "data": {
      "text/html": [
       "<div>\n",
       "<style scoped>\n",
       "    .dataframe tbody tr th:only-of-type {\n",
       "        vertical-align: middle;\n",
       "    }\n",
       "\n",
       "    .dataframe tbody tr th {\n",
       "        vertical-align: top;\n",
       "    }\n",
       "\n",
       "    .dataframe thead th {\n",
       "        text-align: right;\n",
       "    }\n",
       "</style>\n",
       "<table border=\"1\" class=\"dataframe\">\n",
       "  <thead>\n",
       "    <tr style=\"text-align: right;\">\n",
       "      <th></th>\n",
       "      <th>1</th>\n",
       "      <th>3</th>\n",
       "      <th>5</th>\n",
       "      <th>18</th>\n",
       "      <th>19</th>\n",
       "      <th>20</th>\n",
       "      <th>26</th>\n",
       "      <th>27</th>\n",
       "      <th>28</th>\n",
       "      <th>29</th>\n",
       "      <th>...</th>\n",
       "      <th>255055</th>\n",
       "      <th>256010</th>\n",
       "      <th>256061</th>\n",
       "      <th>256500</th>\n",
       "      <th>261322</th>\n",
       "      <th>262275</th>\n",
       "      <th>262696</th>\n",
       "      <th>262753</th>\n",
       "      <th>263383</th>\n",
       "      <th>269554</th>\n",
       "    </tr>\n",
       "  </thead>\n",
       "  <tbody>\n",
       "    <tr>\n",
       "      <th>11676</th>\n",
       "      <td>0.0</td>\n",
       "      <td>0.0</td>\n",
       "      <td>4.5</td>\n",
       "      <td>4.5</td>\n",
       "      <td>4.0</td>\n",
       "      <td>3.5</td>\n",
       "      <td>3.0</td>\n",
       "      <td>0.0</td>\n",
       "      <td>5.0</td>\n",
       "      <td>0.0</td>\n",
       "      <td>...</td>\n",
       "      <td>0.0</td>\n",
       "      <td>0.0</td>\n",
       "      <td>0.0</td>\n",
       "      <td>0.0</td>\n",
       "      <td>0.0</td>\n",
       "      <td>0.0</td>\n",
       "      <td>0.0</td>\n",
       "      <td>0.0</td>\n",
       "      <td>0.0</td>\n",
       "      <td>0.0</td>\n",
       "    </tr>\n",
       "    <tr>\n",
       "      <th>116866</th>\n",
       "      <td>4.5</td>\n",
       "      <td>0.0</td>\n",
       "      <td>0.0</td>\n",
       "      <td>0.0</td>\n",
       "      <td>0.0</td>\n",
       "      <td>0.0</td>\n",
       "      <td>0.0</td>\n",
       "      <td>0.0</td>\n",
       "      <td>0.0</td>\n",
       "      <td>0.0</td>\n",
       "      <td>...</td>\n",
       "      <td>0.0</td>\n",
       "      <td>0.0</td>\n",
       "      <td>0.0</td>\n",
       "      <td>0.0</td>\n",
       "      <td>0.0</td>\n",
       "      <td>0.0</td>\n",
       "      <td>0.0</td>\n",
       "      <td>0.0</td>\n",
       "      <td>0.0</td>\n",
       "      <td>0.0</td>\n",
       "    </tr>\n",
       "    <tr>\n",
       "      <th>219008</th>\n",
       "      <td>3.5</td>\n",
       "      <td>0.0</td>\n",
       "      <td>0.0</td>\n",
       "      <td>0.0</td>\n",
       "      <td>0.0</td>\n",
       "      <td>0.0</td>\n",
       "      <td>0.0</td>\n",
       "      <td>0.0</td>\n",
       "      <td>0.0</td>\n",
       "      <td>0.0</td>\n",
       "      <td>...</td>\n",
       "      <td>0.0</td>\n",
       "      <td>0.0</td>\n",
       "      <td>0.0</td>\n",
       "      <td>0.0</td>\n",
       "      <td>0.0</td>\n",
       "      <td>0.0</td>\n",
       "      <td>0.0</td>\n",
       "      <td>0.0</td>\n",
       "      <td>0.0</td>\n",
       "      <td>0.0</td>\n",
       "    </tr>\n",
       "    <tr>\n",
       "      <th>263325</th>\n",
       "      <td>0.0</td>\n",
       "      <td>0.0</td>\n",
       "      <td>0.0</td>\n",
       "      <td>0.0</td>\n",
       "      <td>0.0</td>\n",
       "      <td>0.0</td>\n",
       "      <td>0.0</td>\n",
       "      <td>0.0</td>\n",
       "      <td>0.0</td>\n",
       "      <td>0.0</td>\n",
       "      <td>...</td>\n",
       "      <td>0.0</td>\n",
       "      <td>0.0</td>\n",
       "      <td>0.0</td>\n",
       "      <td>0.0</td>\n",
       "      <td>0.0</td>\n",
       "      <td>0.0</td>\n",
       "      <td>0.0</td>\n",
       "      <td>0.0</td>\n",
       "      <td>0.0</td>\n",
       "      <td>0.0</td>\n",
       "    </tr>\n",
       "    <tr>\n",
       "      <th>35704</th>\n",
       "      <td>0.0</td>\n",
       "      <td>3.0</td>\n",
       "      <td>0.0</td>\n",
       "      <td>0.0</td>\n",
       "      <td>0.0</td>\n",
       "      <td>0.0</td>\n",
       "      <td>0.0</td>\n",
       "      <td>0.0</td>\n",
       "      <td>0.0</td>\n",
       "      <td>0.0</td>\n",
       "      <td>...</td>\n",
       "      <td>0.0</td>\n",
       "      <td>0.0</td>\n",
       "      <td>0.0</td>\n",
       "      <td>0.0</td>\n",
       "      <td>0.0</td>\n",
       "      <td>0.0</td>\n",
       "      <td>0.0</td>\n",
       "      <td>0.0</td>\n",
       "      <td>0.0</td>\n",
       "      <td>0.0</td>\n",
       "    </tr>\n",
       "  </tbody>\n",
       "</table>\n",
       "<p>5 rows × 25000 columns</p>\n",
       "</div>"
      ],
      "text/plain": [
       "        1       3       5       18      19      20      26      27      \\\n",
       "11676      0.0     0.0     4.5     4.5     4.0     3.5     3.0     0.0   \n",
       "116866     4.5     0.0     0.0     0.0     0.0     0.0     0.0     0.0   \n",
       "219008     3.5     0.0     0.0     0.0     0.0     0.0     0.0     0.0   \n",
       "263325     0.0     0.0     0.0     0.0     0.0     0.0     0.0     0.0   \n",
       "35704      0.0     3.0     0.0     0.0     0.0     0.0     0.0     0.0   \n",
       "\n",
       "        28      29      ...  255055  256010  256061  256500  261322  262275  \\\n",
       "11676      5.0     0.0  ...     0.0     0.0     0.0     0.0     0.0     0.0   \n",
       "116866     0.0     0.0  ...     0.0     0.0     0.0     0.0     0.0     0.0   \n",
       "219008     0.0     0.0  ...     0.0     0.0     0.0     0.0     0.0     0.0   \n",
       "263325     0.0     0.0  ...     0.0     0.0     0.0     0.0     0.0     0.0   \n",
       "35704      0.0     0.0  ...     0.0     0.0     0.0     0.0     0.0     0.0   \n",
       "\n",
       "        262696  262753  263383  269554  \n",
       "11676      0.0     0.0     0.0     0.0  \n",
       "116866     0.0     0.0     0.0     0.0  \n",
       "219008     0.0     0.0     0.0     0.0  \n",
       "263325     0.0     0.0     0.0     0.0  \n",
       "35704      0.0     0.0     0.0     0.0  \n",
       "\n",
       "[5 rows x 25000 columns]"
      ]
     },
     "execution_count": 60,
     "metadata": {},
     "output_type": "execute_result"
    }
   ],
   "source": [
    "book_crossing_train_matrix_df.head()"
   ]
  },
  {
   "cell_type": "code",
   "execution_count": 61,
   "metadata": {},
   "outputs": [],
   "source": [
    "book_crossing_train_matrix_df.to_parquet('data/book_crossing/book_crossing_train_matrix_df.parquet')"
   ]
  },
  {
   "cell_type": "markdown",
   "metadata": {},
   "source": [
    "# Calculate Similarity"
   ]
  },
  {
   "cell_type": "code",
   "execution_count": 90,
   "metadata": {},
   "outputs": [],
   "source": [
    "def get_userCF_sim_batch(rating_matrix, user_ids, output_file=None, batch_size=1000):\n",
    "    \n",
    "    user_item_matrix = rating_matrix\n",
    "    users = user_ids\n",
    "    num_users = len(users)\n",
    "\n",
    "    similarity_matrix = np.zeros((num_users, num_users))\n",
    "\n",
    "    try:\n",
    "        # os.makedirs(os.path.dirname(output_file), exist_ok=True)\n",
    "        \n",
    "        with tqdm(total=num_users // batch_size, desc=\"Calculating batch user similarities\", unit=\"batch\") as pbar:\n",
    "            for start in range(0, num_users, batch_size):\n",
    "                end = min(start + batch_size, num_users)\n",
    "                batch_users = user_item_matrix[start:end, :]\n",
    "                \n",
    "                try:\n",
    "                    batch_similarity = cosine_similarity(batch_users, user_item_matrix)\n",
    "                except ValueError as ve:\n",
    "                    print(f\"ValueError in cosine_similarity for batch {start}-{end}: {ve}\")\n",
    "                    continue\n",
    "                except MemoryError as me:\n",
    "                    print(f\"MemoryError: {me}\")\n",
    "                    break\n",
    "\n",
    "                similarity_matrix[start:end, :] = batch_similarity\n",
    "                \n",
    "                pbar.update(1)\n",
    "\n",
    "        similarity_df = pd.DataFrame(similarity_matrix, index=users, columns=users)\n",
    "\n",
    "        if output_file is not None:\n",
    "            similarity_df.to_parquet(output_file)\n",
    "            print(f\"User similarity matrix has been saved to {output_file}\")\n",
    "            return similarity_df\n",
    "        else:\n",
    "            return similarity_df\n",
    "\n",
    "    except OSError as e:\n",
    "        print(f\"OSError: Failed to create directory for {output_file}: {e}\")"
   ]
  },
  {
   "cell_type": "code",
   "execution_count": 91,
   "metadata": {},
   "outputs": [],
   "source": [
    "def get_itemCF_sim_batch(rating_matrix, item_ids, output_file=None, batch_size=1000):\n",
    "    \n",
    "    item_user_matrix = rating_matrix.T\n",
    "    items = item_ids\n",
    "    num_items = len(items)\n",
    "\n",
    "    similarity_matrix = np.zeros((num_items, num_items))\n",
    "\n",
    "    try:\n",
    "        with tqdm(total=num_items // batch_size, desc=\"Calculating batch item similarities\", unit=\"batch\") as pbar:\n",
    "            for start in range(0, num_items, batch_size):\n",
    "                end = min(start + batch_size, num_items)\n",
    "                batch_items = item_user_matrix[start:end, :]\n",
    "                \n",
    "                try:\n",
    "                    batch_similarity = cosine_similarity(batch_items, item_user_matrix)\n",
    "                except ValueError as ve:\n",
    "                    print(f\"ValueError in cosine_similarity for batch {start}-{end}: {ve}\")\n",
    "                    continue\n",
    "                except MemoryError as me:\n",
    "                    print(f\"MemoryError: {me}\")\n",
    "                    break\n",
    "\n",
    "                similarity_matrix[start:end, :] = batch_similarity\n",
    "                \n",
    "                pbar.update(1)\n",
    "\n",
    "        similarity_df = pd.DataFrame(similarity_matrix, index=items, columns=items)\n",
    "\n",
    "        if output_file is not None:\n",
    "            similarity_df.to_parquet(output_file)\n",
    "            print(f\"Item similarity matrix has been saved to {output_file}\")\n",
    "            return similarity_df\n",
    "        else:\n",
    "            return similarity_df\n",
    "\n",
    "    except OSError as e:\n",
    "        print(f\"OSError: Failed to create directory for {output_file}: {e}\")"
   ]
  },
  {
   "cell_type": "markdown",
   "metadata": {},
   "source": [
    "## Book-Crossing"
   ]
  },
  {
   "cell_type": "code",
   "execution_count": 92,
   "metadata": {},
   "outputs": [
    {
     "name": "stderr",
     "output_type": "stream",
     "text": [
      "Calculating batch user similarities: 3batch [00:02,  1.18batch/s]                    \n"
     ]
    },
    {
     "name": "stdout",
     "output_type": "stream",
     "text": [
      "User similarity matrix has been saved to data/book_crossing/book_crossing_user_sim.parquet\n"
     ]
    }
   ],
   "source": [
    "output_file_path = 'data/book_crossing/book_crossing_user_sim.parquet'\n",
    "book_crossing_user_sim = get_userCF_sim_batch(book_crossing_train_matrix_df.values, bc_user_ids, output_file=output_file_path, batch_size=1000)"
   ]
  },
  {
   "cell_type": "code",
   "execution_count": 94,
   "metadata": {},
   "outputs": [
    {
     "data": {
      "text/plain": [
       "(2996, 2996)"
      ]
     },
     "execution_count": 94,
     "metadata": {},
     "output_type": "execute_result"
    }
   ],
   "source": [
    "book_crossing_user_sim.shape"
   ]
  },
  {
   "cell_type": "code",
   "execution_count": 95,
   "metadata": {},
   "outputs": [
    {
     "name": "stderr",
     "output_type": "stream",
     "text": [
      "Calculating batch item similarities: 100%|██████████| 25/25 [00:20<00:00,  1.23batch/s]\n"
     ]
    },
    {
     "name": "stdout",
     "output_type": "stream",
     "text": [
      "Item similarity matrix has been saved to data/book_crossing/book_crossing_item_sim.parquet\n"
     ]
    }
   ],
   "source": [
    "output_file_path = 'data/book_crossing/book_crossing_item_sim.parquet'\n",
    "book_crossing_item_sim = get_itemCF_sim_batch(book_crossing_train_matrix_df.values, bc_item_ids, output_file=output_file_path, batch_size=1000)"
   ]
  },
  {
   "cell_type": "code",
   "execution_count": 98,
   "metadata": {},
   "outputs": [
    {
     "data": {
      "text/plain": [
       "(25000, 25000)"
      ]
     },
     "execution_count": 98,
     "metadata": {},
     "output_type": "execute_result"
    }
   ],
   "source": [
    "book_crossing_item_sim.shape"
   ]
  },
  {
   "cell_type": "markdown",
   "metadata": {},
   "source": [
    "## ml-20m"
   ]
  },
  {
   "cell_type": "code",
   "execution_count": 96,
   "metadata": {},
   "outputs": [
    {
     "name": "stderr",
     "output_type": "stream",
     "text": [
      "Calculating batch user similarities: 100%|██████████| 3/3 [00:02<00:00,  1.15batch/s]\n"
     ]
    },
    {
     "name": "stdout",
     "output_type": "stream",
     "text": [
      "User similarity matrix has been saved to data/ml-20m/ml_20m_user_sim.parquet\n"
     ]
    }
   ],
   "source": [
    "output_file_path = 'data/ml-20m/ml_20m_user_sim.parquet'\n",
    "ml_20m_user_sim = get_userCF_sim_batch(ml_20m_train_matrix_df.values, ml_user_ids, output_file=output_file_path, batch_size=1000)"
   ]
  },
  {
   "cell_type": "code",
   "execution_count": 99,
   "metadata": {},
   "outputs": [
    {
     "data": {
      "text/plain": [
       "(3000, 3000)"
      ]
     },
     "execution_count": 99,
     "metadata": {},
     "output_type": "execute_result"
    }
   ],
   "source": [
    "ml_20m_user_sim.shape"
   ]
  },
  {
   "cell_type": "code",
   "execution_count": 97,
   "metadata": {},
   "outputs": [
    {
     "name": "stderr",
     "output_type": "stream",
     "text": [
      "Calculating batch item similarities: 26batch [00:23,  1.11batch/s]                     \n"
     ]
    },
    {
     "name": "stdout",
     "output_type": "stream",
     "text": [
      "Item similarity matrix has been saved to data/ml-20m/ml_20m_item_sim.parquet\n"
     ]
    }
   ],
   "source": [
    "output_file_path = 'data/ml-20m/ml_20m_item_sim.parquet'\n",
    "ml_20m_item_sim = get_itemCF_sim_batch(ml_20m_train_matrix_df.values, ml_item_ids, output_file=output_file_path, batch_size=1000)"
   ]
  },
  {
   "cell_type": "code",
   "execution_count": 100,
   "metadata": {},
   "outputs": [
    {
     "data": {
      "text/plain": [
       "(25511, 25511)"
      ]
     },
     "execution_count": 100,
     "metadata": {},
     "output_type": "execute_result"
    }
   ],
   "source": [
    "ml_20m_item_sim.shape"
   ]
  },
  {
   "cell_type": "markdown",
   "metadata": {},
   "source": [
    "## Check dimensions"
   ]
  },
  {
   "cell_type": "code",
   "execution_count": 101,
   "metadata": {},
   "outputs": [
    {
     "data": {
      "text/plain": [
       "((3000, 25511), (3000, 3000), (25511, 25511))"
      ]
     },
     "execution_count": 101,
     "metadata": {},
     "output_type": "execute_result"
    }
   ],
   "source": [
    "ml_20m_train_matrix_df.shape, ml_20m_user_sim.shape, ml_20m_item_sim.shape"
   ]
  },
  {
   "cell_type": "code",
   "execution_count": 102,
   "metadata": {},
   "outputs": [
    {
     "data": {
      "text/plain": [
       "((2996, 25000), (2996, 2996), (25000, 25000))"
      ]
     },
     "execution_count": 102,
     "metadata": {},
     "output_type": "execute_result"
    }
   ],
   "source": [
    "book_crossing_train_matrix_df.shape, book_crossing_user_sim.shape, book_crossing_item_sim.shape"
   ]
  },
  {
   "cell_type": "code",
   "execution_count": 104,
   "metadata": {},
   "outputs": [
    {
     "data": {
      "text/plain": [
       "(Index([     1,      2,      3,      4,      5,      6,      7,      8,      9,\n",
       "            10,\n",
       "        ...\n",
       "        131239, 131241, 131243, 131248, 131250, 131252, 131254, 131256, 131258,\n",
       "        131260],\n",
       "       dtype='int64', length=25511),\n",
       " Index([     1,      2,      3,      4,      5,      6,      7,      8,      9,\n",
       "            10,\n",
       "        ...\n",
       "        131239, 131241, 131243, 131248, 131250, 131252, 131254, 131256, 131258,\n",
       "        131260],\n",
       "       dtype='int64', length=25511))"
      ]
     },
     "execution_count": 104,
     "metadata": {},
     "output_type": "execute_result"
    }
   ],
   "source": [
    "ml_20m_train_matrix_df.columns, ml_20m_item_sim.columns"
   ]
  }
 ],
 "metadata": {
  "kernelspec": {
   "display_name": "ntu_sd6125_recsys",
   "language": "python",
   "name": "python3"
  },
  "language_info": {
   "codemirror_mode": {
    "name": "ipython",
    "version": 3
   },
   "file_extension": ".py",
   "mimetype": "text/x-python",
   "name": "python",
   "nbconvert_exporter": "python",
   "pygments_lexer": "ipython3",
   "version": "3.9.20"
  }
 },
 "nbformat": 4,
 "nbformat_minor": 2
}
